{
 "cells": [
  {
   "cell_type": "code",
   "execution_count": 3,
   "id": "f2cb4b09",
   "metadata": {},
   "outputs": [],
   "source": [
    "import cv2\n",
    "import numpy as np"
   ]
  },
  {
   "cell_type": "code",
   "execution_count": 18,
   "id": "e73ad4ac",
   "metadata": {},
   "outputs": [
    {
     "name": "stdout",
     "output_type": "stream",
     "text": [
      "24.0 41\n",
      "24.0 41\n"
     ]
    }
   ],
   "source": [
    "while True:\n",
    "    isclosed=0\n",
    "    cap = cv2.VideoCapture('tracking2.avi')\n",
    "    \n",
    "    # 영상 속도 조절\n",
    "    fps = cap.get(cv2.CAP_PROP_FPS)\n",
    "    delay = int(1000/fps)\n",
    "    \n",
    "    while cap.isOpened():\n",
    "        ret, frame = cap.read()\n",
    "        \n",
    "        # 노란색 영역 지정\n",
    "        lower_yellow = np.array([0, 104, 190])\n",
    "        upper_yellow = np.array([60, 227, 255])\n",
    "        \n",
    "        if (ret == True):\n",
    "            mask = cv2.inRange(cv2.cvtColor(frame, cv2.COLOR_BGR2HSV), lower_yellow, upper_yellow)\n",
    "            res = cv2.bitwise_and(frame, frame, mask = mask)\n",
    "            cv2.imshow('frame', frame)\n",
    "            cv2.imshow('mask', mask)\n",
    "            cv2.imshow('res', res)\n",
    "            cv2.waitKey(delay)\n",
    "            if (cv2.waitKey(1) & 0xFF == 27):\n",
    "                isclosed=1\n",
    "                break\n",
    "        else:\n",
    "            break\n",
    "    if isclosed:\n",
    "        break\n",
    "        \n",
    "cap.release()\n",
    "cv2.destroyAllWindows()"
   ]
  },
  {
   "cell_type": "code",
   "execution_count": null,
   "id": "c08ab477",
   "metadata": {},
   "outputs": [],
   "source": []
  },
  {
   "cell_type": "markdown",
   "id": "7e0ffc8d",
   "metadata": {},
   "source": [
    "# "
   ]
  }
 ],
 "metadata": {
  "kernelspec": {
   "display_name": "Python 3",
   "language": "python",
   "name": "python3"
  },
  "language_info": {
   "codemirror_mode": {
    "name": "ipython",
    "version": 3
   },
   "file_extension": ".py",
   "mimetype": "text/x-python",
   "name": "python",
   "nbconvert_exporter": "python",
   "pygments_lexer": "ipython3",
   "version": "3.9.4"
  }
 },
 "nbformat": 4,
 "nbformat_minor": 5
}
