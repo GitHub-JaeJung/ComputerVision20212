{
 "cells": [
  {
   "cell_type": "markdown",
   "id": "9d9fa638",
   "metadata": {},
   "source": [
    "# Homework 1"
   ]
  },
  {
   "cell_type": "markdown",
   "id": "557dd308",
   "metadata": {},
   "source": [
    "### Trackbar, Text, Box selection"
   ]
  },
  {
   "cell_type": "code",
   "execution_count": 63,
   "id": "714085d8",
   "metadata": {},
   "outputs": [],
   "source": [
    "import cv2\n",
    "import numpy as np"
   ]
  },
  {
   "cell_type": "code",
   "execution_count": 64,
   "id": "4a311feb",
   "metadata": {},
   "outputs": [],
   "source": [
    "def nothing(x):\n",
    "    pass\n",
    "\n",
    "# img = np.zeros((300, 512, 3), np.uint8)\n",
    "img = cv2.imread('messi5.jpg', 1)\n",
    "cv2.namedWindow('image')"
   ]
  },
  {
   "cell_type": "code",
   "execution_count": 65,
   "id": "7343f4dd",
   "metadata": {},
   "outputs": [],
   "source": [
    "cv2.createTrackbar('value', 'image', 0, 255, nothing)\n",
    "font = cv2.FONT_HERSHEY_SIMPLEX"
   ]
  },
  {
   "cell_type": "code",
   "execution_count": 66,
   "id": "f36256a6",
   "metadata": {},
   "outputs": [],
   "source": [
    "ix, iy = -1, -1\n",
    "drawing = False"
   ]
  },
  {
   "cell_type": "code",
   "execution_count": 67,
   "id": "31a1bbdf",
   "metadata": {},
   "outputs": [],
   "source": [
    "def onMouse(event, x, y, flags, param):\n",
    "    # print(event, x, y, )\n",
    "    global ix, iy, drawing, img\n",
    "    if event == cv2.EVENT_LBUTTONDOWN:\n",
    "        # img = np.zeros(img, np.uint8)\n",
    "\n",
    "        ix, iy = x, y\n",
    "        \n",
    "        drawing = True\n",
    "        cv2.rectangle(img,(ix,iy),(x,y),(0,255,0),1)\n",
    "        \n",
    "    elif event == cv2.EVENT_MOUSEMOVE:\n",
    "        # img = np.zeros((512,512,3), np.uint8)\n",
    "        if drawing == True:\n",
    "            img = cv2.imread('messi5.jpg', 1)\n",
    "            \n",
    "            cv2.rectangle(img,(ix,iy),(x,y),(0,255,0),3)\n",
    "    # img = np.zeros((512,512,3), np.uint8)\n",
    "    elif event == cv2.EVENT_LBUTTONUP:\n",
    "        end = x, y\n",
    "        cv2.rectangle(img, (ix, iy), (x, y), (0, 0, 255), -1)\n",
    "        drawing = False        \n",
    "        cv2.putText(img, str([\"Mouse:\", (ix, iy), end]), (0, 40), font, 1, (255, 255, 255), 1)\n",
    "        \n",
    "        \n",
    "    # return mouse_point1, mouse_point2\n",
    "    # message = cv2.putText(img, str([\"Mouse:\",mouse_point]), (0, 40), font, 1, (255, 255, 255), 1)\n",
    "    # return message\n",
    "    \n",
    "    "
   ]
  },
  {
   "cell_type": "code",
   "execution_count": null,
   "id": "e4427e7c",
   "metadata": {
    "scrolled": true
   },
   "outputs": [],
   "source": [
    "while(1):\n",
    "    cv2.imshow('image', img)\n",
    "    # print(x)\n",
    "    cv2.setMouseCallback('image', onMouse)\n",
    "    \n",
    "    # print(mouse_point)\n",
    "    k = cv2.waitKey(1) & 0xFF\n",
    "    if k == 27:\n",
    "        break\n",
    "        \n",
    "    \n",
    "cv2.destroyAllWindows()"
   ]
  },
  {
   "cell_type": "code",
   "execution_count": null,
   "id": "853a5b8b",
   "metadata": {},
   "outputs": [],
   "source": []
  },
  {
   "cell_type": "code",
   "execution_count": null,
   "id": "26fa6220",
   "metadata": {},
   "outputs": [],
   "source": []
  },
  {
   "cell_type": "code",
   "execution_count": null,
   "id": "6a80fef2",
   "metadata": {},
   "outputs": [],
   "source": []
  }
 ],
 "metadata": {
  "kernelspec": {
   "display_name": "Python 3",
   "language": "python",
   "name": "python3"
  },
  "language_info": {
   "codemirror_mode": {
    "name": "ipython",
    "version": 3
   },
   "file_extension": ".py",
   "mimetype": "text/x-python",
   "name": "python",
   "nbconvert_exporter": "python",
   "pygments_lexer": "ipython3",
   "version": "3.9.4"
  }
 },
 "nbformat": 4,
 "nbformat_minor": 5
}
