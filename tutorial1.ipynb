{
 "cells": [
  {
   "cell_type": "markdown",
   "id": "8413ef0a-43e8-4ea0-81ba-81aa313d1ff9",
   "metadata": {
    "tags": []
   },
   "source": [
    "Sequence Types 2"
   ]
  },
  {
   "cell_type": "code",
   "execution_count": 1,
   "id": "5c4a3a1f-f8b1-4c5e-8dd8-217b2eba6936",
   "metadata": {},
   "outputs": [],
   "source": [
    "x, y = 2, 3"
   ]
  },
  {
   "cell_type": "code",
   "execution_count": 2,
   "id": "aa564edb-dbc2-494b-84a8-fad488f33c01",
   "metadata": {},
   "outputs": [
    {
     "data": {
      "text/plain": [
       "2"
      ]
     },
     "execution_count": 2,
     "metadata": {},
     "output_type": "execute_result"
    }
   ],
   "source": [
    "x"
   ]
  },
  {
   "cell_type": "code",
   "execution_count": 3,
   "id": "217d16b6-1b82-4d9b-939f-228c36ef3bc9",
   "metadata": {},
   "outputs": [
    {
     "data": {
      "text/plain": [
       "3"
      ]
     },
     "execution_count": 3,
     "metadata": {},
     "output_type": "execute_result"
    }
   ],
   "source": [
    "y"
   ]
  },
  {
   "cell_type": "code",
   "execution_count": 4,
   "id": "8a3127f2-884d-4c78-887b-c581ff6e548d",
   "metadata": {},
   "outputs": [],
   "source": [
    "tu = (23, 'abc', 4.56, (2, 3), 'def')"
   ]
  },
  {
   "cell_type": "code",
   "execution_count": 5,
   "id": "2c996f36-36ae-4290-a1b5-b77691c3a581",
   "metadata": {},
   "outputs": [
    {
     "data": {
      "text/plain": [
       "23"
      ]
     },
     "execution_count": 5,
     "metadata": {},
     "output_type": "execute_result"
    }
   ],
   "source": [
    "tu[0]"
   ]
  },
  {
   "cell_type": "code",
   "execution_count": 10,
   "id": "5a049151-ae8e-41d5-a247-11287c7e5af7",
   "metadata": {},
   "outputs": [
    {
     "data": {
      "text/plain": [
       "'abc'"
      ]
     },
     "execution_count": 10,
     "metadata": {},
     "output_type": "execute_result"
    }
   ],
   "source": [
    "tu[1]"
   ]
  },
  {
   "cell_type": "code",
   "execution_count": 12,
   "id": "67d843f3-412a-4e0b-9ea2-bd67d2f73822",
   "metadata": {},
   "outputs": [],
   "source": [
    "li = [\"abc\", 34, 4.34, 23]"
   ]
  },
  {
   "cell_type": "code",
   "execution_count": 13,
   "id": "26287044-dd03-4e90-8ff4-0e16e5fe3fcc",
   "metadata": {},
   "outputs": [
    {
     "data": {
      "text/plain": [
       "'abc'"
      ]
     },
     "execution_count": 13,
     "metadata": {},
     "output_type": "execute_result"
    }
   ],
   "source": [
    "li[0]"
   ]
  },
  {
   "cell_type": "code",
   "execution_count": 14,
   "id": "050ab8f2-0f6e-477a-b51d-4f20cc8c4713",
   "metadata": {},
   "outputs": [
    {
     "data": {
      "text/plain": [
       "34"
      ]
     },
     "execution_count": 14,
     "metadata": {},
     "output_type": "execute_result"
    }
   ],
   "source": [
    "li[1]"
   ]
  },
  {
   "cell_type": "code",
   "execution_count": 15,
   "id": "2150389d-d03d-4793-b0a2-5b29306dbb99",
   "metadata": {},
   "outputs": [
    {
     "data": {
      "text/plain": [
       "23"
      ]
     },
     "execution_count": 15,
     "metadata": {},
     "output_type": "execute_result"
    }
   ],
   "source": [
    "li[3]"
   ]
  },
  {
   "cell_type": "code",
   "execution_count": 18,
   "id": "cb9a2673-ab63-4d85-b1b6-9f8409a2c07d",
   "metadata": {},
   "outputs": [
    {
     "data": {
      "text/plain": [
       "23"
      ]
     },
     "execution_count": 18,
     "metadata": {},
     "output_type": "execute_result"
    }
   ],
   "source": [
    "li[-1] # 음수는 반대로"
   ]
  },
  {
   "cell_type": "code",
   "execution_count": 17,
   "id": "a716553a-f690-4b04-9fff-3da565780f18",
   "metadata": {},
   "outputs": [
    {
     "data": {
      "text/plain": [
       "34"
      ]
     },
     "execution_count": 17,
     "metadata": {},
     "output_type": "execute_result"
    }
   ],
   "source": [
    "li[-3]"
   ]
  },
  {
   "cell_type": "code",
   "execution_count": null,
   "id": "7af9bc6e-d2b1-4465-b9b4-256b30dbeb6f",
   "metadata": {},
   "outputs": [],
   "source": []
  }
 ],
 "metadata": {
  "kernelspec": {
   "display_name": "Main",
   "language": "python",
   "name": "main"
  },
  "language_info": {
   "codemirror_mode": {
    "name": "ipython",
    "version": 3
   },
   "file_extension": ".py",
   "mimetype": "text/x-python",
   "name": "python",
   "nbconvert_exporter": "python",
   "pygments_lexer": "ipython3",
   "version": "3.6.13"
  }
 },
 "nbformat": 4,
 "nbformat_minor": 5
}
