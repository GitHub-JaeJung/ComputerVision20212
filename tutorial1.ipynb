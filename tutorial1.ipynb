{
 "cells": [
  {
   "cell_type": "markdown",
   "id": "8413ef0a-43e8-4ea0-81ba-81aa313d1ff9",
   "metadata": {
    "tags": []
   },
   "source": [
    "Sequence Types 2"
   ]
  },
  {
   "cell_type": "code",
   "execution_count": 1,
   "id": "5c4a3a1f-f8b1-4c5e-8dd8-217b2eba6936",
   "metadata": {},
   "outputs": [],
   "source": [
    "x, y = 2, 3"
   ]
  },
  {
   "cell_type": "code",
   "execution_count": 2,
   "id": "aa564edb-dbc2-494b-84a8-fad488f33c01",
   "metadata": {},
   "outputs": [
    {
     "data": {
      "text/plain": [
       "2"
      ]
     },
     "execution_count": 2,
     "metadata": {},
     "output_type": "execute_result"
    }
   ],
   "source": [
    "x"
   ]
  },
  {
   "cell_type": "code",
   "execution_count": 3,
   "id": "217d16b6-1b82-4d9b-939f-228c36ef3bc9",
   "metadata": {},
   "outputs": [
    {
     "data": {
      "text/plain": [
       "3"
      ]
     },
     "execution_count": 3,
     "metadata": {},
     "output_type": "execute_result"
    }
   ],
   "source": [
    "y"
   ]
  },
  {
   "cell_type": "code",
   "execution_count": 4,
   "id": "8a3127f2-884d-4c78-887b-c581ff6e548d",
   "metadata": {},
   "outputs": [],
   "source": [
    "tu = (23, 'abc', 4.56, (2, 3), 'def')"
   ]
  },
  {
   "cell_type": "code",
   "execution_count": 5,
   "id": "2c996f36-36ae-4290-a1b5-b77691c3a581",
   "metadata": {},
   "outputs": [
    {
     "data": {
      "text/plain": [
       "23"
      ]
     },
     "execution_count": 5,
     "metadata": {},
     "output_type": "execute_result"
    }
   ],
   "source": [
    "tu[0]"
   ]
  },
  {
   "cell_type": "code",
   "execution_count": 10,
   "id": "5a049151-ae8e-41d5-a247-11287c7e5af7",
   "metadata": {},
   "outputs": [
    {
     "data": {
      "text/plain": [
       "'abc'"
      ]
     },
     "execution_count": 10,
     "metadata": {},
     "output_type": "execute_result"
    }
   ],
   "source": [
    "tu[1]"
   ]
  },
  {
   "cell_type": "code",
   "execution_count": 12,
   "id": "67d843f3-412a-4e0b-9ea2-bd67d2f73822",
   "metadata": {},
   "outputs": [],
   "source": [
    "li = [\"abc\", 34, 4.34, 23]"
   ]
  },
  {
   "cell_type": "code",
   "execution_count": 13,
   "id": "26287044-dd03-4e90-8ff4-0e16e5fe3fcc",
   "metadata": {},
   "outputs": [
    {
     "data": {
      "text/plain": [
       "'abc'"
      ]
     },
     "execution_count": 13,
     "metadata": {},
     "output_type": "execute_result"
    }
   ],
   "source": [
    "li[0]"
   ]
  },
  {
   "cell_type": "code",
   "execution_count": 14,
   "id": "050ab8f2-0f6e-477a-b51d-4f20cc8c4713",
   "metadata": {},
   "outputs": [
    {
     "data": {
      "text/plain": [
       "34"
      ]
     },
     "execution_count": 14,
     "metadata": {},
     "output_type": "execute_result"
    }
   ],
   "source": [
    "li[1]"
   ]
  },
  {
   "cell_type": "code",
   "execution_count": 15,
   "id": "2150389d-d03d-4793-b0a2-5b29306dbb99",
   "metadata": {},
   "outputs": [
    {
     "data": {
      "text/plain": [
       "23"
      ]
     },
     "execution_count": 15,
     "metadata": {},
     "output_type": "execute_result"
    }
   ],
   "source": [
    "li[3]"
   ]
  },
  {
   "cell_type": "code",
   "execution_count": 18,
   "id": "cb9a2673-ab63-4d85-b1b6-9f8409a2c07d",
   "metadata": {},
   "outputs": [
    {
     "data": {
      "text/plain": [
       "23"
      ]
     },
     "execution_count": 18,
     "metadata": {},
     "output_type": "execute_result"
    }
   ],
   "source": [
    "li[-1] # 음수는 반대로"
   ]
  },
  {
   "cell_type": "code",
   "execution_count": 17,
   "id": "a716553a-f690-4b04-9fff-3da565780f18",
   "metadata": {},
   "outputs": [
    {
     "data": {
      "text/plain": [
       "34"
      ]
     },
     "execution_count": 17,
     "metadata": {},
     "output_type": "execute_result"
    }
   ],
   "source": [
    "li[-3]"
   ]
  },
  {
   "cell_type": "code",
   "execution_count": 19,
   "id": "7af9bc6e-d2b1-4465-b9b4-256b30dbeb6f",
   "metadata": {},
   "outputs": [],
   "source": [
    "st = \"Hello World\""
   ]
  },
  {
   "cell_type": "code",
   "execution_count": 20,
   "id": "36cb7c89-d58e-4953-b749-47e30e9aff95",
   "metadata": {},
   "outputs": [],
   "source": [
    "st = 'Hello World'"
   ]
  },
  {
   "cell_type": "code",
   "execution_count": 21,
   "id": "31ca5841-573b-434c-82a5-53c595edcd2d",
   "metadata": {},
   "outputs": [],
   "source": [
    "st = \"\"\"This is a multi-line\n",
    "string that uses triple quotes\"\"\""
   ]
  },
  {
   "cell_type": "code",
   "execution_count": 22,
   "id": "153dfea7-d3b4-4a52-a884-0107243d8e26",
   "metadata": {},
   "outputs": [
    {
     "data": {
      "text/plain": [
       "'This is a multi-line\\nstring that uses triple quotes'"
      ]
     },
     "execution_count": 22,
     "metadata": {},
     "output_type": "execute_result"
    }
   ],
   "source": [
    "st"
   ]
  },
  {
   "cell_type": "code",
   "execution_count": 23,
   "id": "1ee41bee-b18f-4762-8bdb-85bc0592c86c",
   "metadata": {},
   "outputs": [],
   "source": [
    "st = \"Hello world\""
   ]
  },
  {
   "cell_type": "code",
   "execution_count": 24,
   "id": "d89ddca6-1f54-47de-bea9-bba8fa0068b3",
   "metadata": {},
   "outputs": [
    {
     "data": {
      "text/plain": [
       "'e'"
      ]
     },
     "execution_count": 24,
     "metadata": {},
     "output_type": "execute_result"
    }
   ],
   "source": [
    "st[1]"
   ]
  },
  {
   "cell_type": "markdown",
   "id": "63c1a5d2-a9c1-4b31-9d38-c5ac0cc73252",
   "metadata": {},
   "source": [
    "Negative indices"
   ]
  },
  {
   "cell_type": "code",
   "execution_count": 25,
   "id": "c1d3a4fb-04dd-4219-87a9-a7c1c1852f60",
   "metadata": {},
   "outputs": [],
   "source": [
    "t = (23, 'abc', 4.56, (2,3), 'def')"
   ]
  },
  {
   "cell_type": "code",
   "execution_count": 26,
   "id": "a7a0f883-8df9-4521-855a-1cf61b341251",
   "metadata": {},
   "outputs": [
    {
     "data": {
      "text/plain": [
       "4.56"
      ]
     },
     "execution_count": 26,
     "metadata": {},
     "output_type": "execute_result"
    }
   ],
   "source": [
    "t[-3]"
   ]
  },
  {
   "cell_type": "code",
   "execution_count": 27,
   "id": "906b5f4f-31ab-4471-9686-74f97f9c84af",
   "metadata": {},
   "outputs": [
    {
     "data": {
      "text/plain": [
       "('abc', 4.56, (2, 3))"
      ]
     },
     "execution_count": 27,
     "metadata": {},
     "output_type": "execute_result"
    }
   ],
   "source": [
    "t[1:4]\n"
   ]
  },
  {
   "cell_type": "code",
   "execution_count": 28,
   "id": "5be715d8-114a-4e2c-bc55-01fab1341981",
   "metadata": {},
   "outputs": [
    {
     "data": {
      "text/plain": [
       "('abc', 4.56, (2, 3))"
      ]
     },
     "execution_count": 28,
     "metadata": {},
     "output_type": "execute_result"
    }
   ],
   "source": [
    "t[1:-1]"
   ]
  },
  {
   "cell_type": "code",
   "execution_count": 29,
   "id": "c274a886-37da-4af2-a35f-d85e8efc4558",
   "metadata": {},
   "outputs": [
    {
     "data": {
      "text/plain": [
       "('abc', (2, 3))"
      ]
     },
     "execution_count": 29,
     "metadata": {},
     "output_type": "execute_result"
    }
   ],
   "source": [
    "t[1:-1:2]\n"
   ]
  },
  {
   "cell_type": "code",
   "execution_count": 30,
   "id": "56a21250-d716-412f-bf7f-4ad4774ce07e",
   "metadata": {},
   "outputs": [],
   "source": [
    "t = (23, 'abc', 4.56, (2,3), 'def')\n"
   ]
  },
  {
   "cell_type": "code",
   "execution_count": 31,
   "id": "ab6e0b9d-d80b-47e9-968c-62f5ef6fcf6f",
   "metadata": {},
   "outputs": [
    {
     "data": {
      "text/plain": [
       "(23, 'abc')"
      ]
     },
     "execution_count": 31,
     "metadata": {},
     "output_type": "execute_result"
    }
   ],
   "source": [
    "t[:2]"
   ]
  },
  {
   "cell_type": "code",
   "execution_count": 32,
   "id": "5118c323-af28-4e4d-8416-dbb1f49d956c",
   "metadata": {},
   "outputs": [
    {
     "data": {
      "text/plain": [
       "(4.56, (2, 3), 'def')"
      ]
     },
     "execution_count": 32,
     "metadata": {},
     "output_type": "execute_result"
    }
   ],
   "source": [
    "t[2:]"
   ]
  },
  {
   "cell_type": "code",
   "execution_count": 33,
   "id": "77e3a102-12b4-43f1-9c5b-a41f72436392",
   "metadata": {},
   "outputs": [
    {
     "data": {
      "text/plain": [
       "(23, 'abc', 4.56, (2, 3), 'def')"
      ]
     },
     "execution_count": 33,
     "metadata": {},
     "output_type": "execute_result"
    }
   ],
   "source": [
    "t[:]"
   ]
  },
  {
   "cell_type": "code",
   "execution_count": 36,
   "id": "68796748-7f10-4fc4-915c-8eef15fb6c3e",
   "metadata": {},
   "outputs": [],
   "source": [
    "t = [1, 2, 4, 5]\n"
   ]
  },
  {
   "cell_type": "code",
   "execution_count": 37,
   "id": "4fd92e14-f594-4186-8f57-ee1a62ead4a1",
   "metadata": {},
   "outputs": [
    {
     "data": {
      "text/plain": [
       "False"
      ]
     },
     "execution_count": 37,
     "metadata": {},
     "output_type": "execute_result"
    }
   ],
   "source": [
    "3 in t\n"
   ]
  },
  {
   "cell_type": "code",
   "execution_count": 38,
   "id": "80c39b05-9238-41a9-8e61-2d3449696ab2",
   "metadata": {},
   "outputs": [
    {
     "data": {
      "text/plain": [
       "True"
      ]
     },
     "execution_count": 38,
     "metadata": {},
     "output_type": "execute_result"
    }
   ],
   "source": [
    "4 in t"
   ]
  },
  {
   "cell_type": "code",
   "execution_count": 39,
   "id": "a926a64f-560f-42ea-a67b-6ffdb2c97502",
   "metadata": {},
   "outputs": [
    {
     "data": {
      "text/plain": [
       "False"
      ]
     },
     "execution_count": 39,
     "metadata": {},
     "output_type": "execute_result"
    }
   ],
   "source": [
    "4 not in t"
   ]
  },
  {
   "cell_type": "code",
   "execution_count": 40,
   "id": "48d8348d-b43e-4d50-91ff-b9221cb4cc17",
   "metadata": {},
   "outputs": [],
   "source": [
    "a = 'abcde'"
   ]
  },
  {
   "cell_type": "code",
   "execution_count": 41,
   "id": "9c501f2d-9f05-4c9a-a8b4-578acb789ac6",
   "metadata": {},
   "outputs": [
    {
     "data": {
      "text/plain": [
       "True"
      ]
     },
     "execution_count": 41,
     "metadata": {},
     "output_type": "execute_result"
    }
   ],
   "source": [
    "'c' in a"
   ]
  },
  {
   "cell_type": "code",
   "execution_count": 42,
   "id": "f9e40785-354e-439d-8a4b-147027b87855",
   "metadata": {},
   "outputs": [
    {
     "data": {
      "text/plain": [
       "True"
      ]
     },
     "execution_count": 42,
     "metadata": {},
     "output_type": "execute_result"
    }
   ],
   "source": [
    "'cd' in a"
   ]
  },
  {
   "cell_type": "code",
   "execution_count": 43,
   "id": "ee2b3958-964b-4c07-aa0f-626d36470414",
   "metadata": {},
   "outputs": [
    {
     "data": {
      "text/plain": [
       "False"
      ]
     },
     "execution_count": 43,
     "metadata": {},
     "output_type": "execute_result"
    }
   ],
   "source": [
    "'ac' in a"
   ]
  },
  {
   "cell_type": "code",
   "execution_count": 44,
   "id": "12b6f53b-c7d7-45e0-9958-d62df40f702d",
   "metadata": {},
   "outputs": [
    {
     "data": {
      "text/plain": [
       "(1, 2, 3, 4, 5, 6)"
      ]
     },
     "execution_count": 44,
     "metadata": {},
     "output_type": "execute_result"
    }
   ],
   "source": [
    "(1, 2, 3) + (4, 5, 6)\n"
   ]
  },
  {
   "cell_type": "code",
   "execution_count": 45,
   "id": "03356c8e-bf6e-41b5-bef8-d1e1315596e5",
   "metadata": {},
   "outputs": [
    {
     "data": {
      "text/plain": [
       "[1, 2, 3, 4, 5, 6]"
      ]
     },
     "execution_count": 45,
     "metadata": {},
     "output_type": "execute_result"
    }
   ],
   "source": [
    "[1, 2, 3] + [4, 5, 6]"
   ]
  },
  {
   "cell_type": "code",
   "execution_count": 47,
   "id": "12c9d8df-8324-4a8a-a928-bd6e4cbda7d3",
   "metadata": {},
   "outputs": [
    {
     "data": {
      "text/plain": [
       "'Hello world'"
      ]
     },
     "execution_count": 47,
     "metadata": {},
     "output_type": "execute_result"
    }
   ],
   "source": [
    "\"Hello\" + \" \" + \"world\""
   ]
  },
  {
   "cell_type": "code",
   "execution_count": null,
   "id": "f6ac47ef-0dfb-4754-8367-70636f6b262f",
   "metadata": {},
   "outputs": [],
   "source": []
  }
 ],
 "metadata": {
  "kernelspec": {
   "display_name": "Main",
   "language": "python",
   "name": "main"
  },
  "language_info": {
   "codemirror_mode": {
    "name": "ipython",
    "version": 3
   },
   "file_extension": ".py",
   "mimetype": "text/x-python",
   "name": "python",
   "nbconvert_exporter": "python",
   "pygments_lexer": "ipython3",
   "version": "3.6.13"
  }
 },
 "nbformat": 4,
 "nbformat_minor": 5
}
