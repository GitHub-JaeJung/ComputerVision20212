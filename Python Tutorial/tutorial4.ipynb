{
 "cells": [
  {
   "cell_type": "markdown",
   "id": "dc7f2cfd",
   "metadata": {},
   "source": [
    "Boolean Expressions "
   ]
  },
  {
   "cell_type": "code",
   "execution_count": 5,
   "id": "5214a846",
   "metadata": {},
   "outputs": [],
   "source": [
    "x = 1\n",
    "y = 2"
   ]
  },
  {
   "cell_type": "code",
   "execution_count": 7,
   "id": "a33848c2",
   "metadata": {},
   "outputs": [
    {
     "data": {
      "text/plain": [
       "False"
      ]
     },
     "execution_count": 7,
     "metadata": {},
     "output_type": "execute_result"
    }
   ],
   "source": [
    "x is y # X and Y refer to the exact same object (like Java ==)"
   ]
  },
  {
   "cell_type": "code",
   "execution_count": 8,
   "id": "1ea9fff2",
   "metadata": {},
   "outputs": [
    {
     "data": {
      "text/plain": [
       "2"
      ]
     },
     "execution_count": 8,
     "metadata": {},
     "output_type": "execute_result"
    }
   ],
   "source": [
    "x and y # True if a is True and b is True"
   ]
  },
  {
   "cell_type": "code",
   "execution_count": 9,
   "id": "af0be353",
   "metadata": {},
   "outputs": [
    {
     "data": {
      "text/plain": [
       "1"
      ]
     },
     "execution_count": 9,
     "metadata": {},
     "output_type": "execute_result"
    }
   ],
   "source": [
    "x or y # True if a is True or b is True"
   ]
  },
  {
   "cell_type": "code",
   "execution_count": 13,
   "id": "0c5235d4",
   "metadata": {},
   "outputs": [
    {
     "data": {
      "text/plain": [
       "False"
      ]
     },
     "execution_count": 13,
     "metadata": {},
     "output_type": "execute_result"
    }
   ],
   "source": [
    "not x # True if a is False"
   ]
  }
 ],
 "metadata": {
  "kernelspec": {
   "display_name": "Main",
   "language": "python",
   "name": "main"
  },
  "language_info": {
   "codemirror_mode": {
    "name": "ipython",
    "version": 3
   },
   "file_extension": ".py",
   "mimetype": "text/x-python",
   "name": "python",
   "nbconvert_exporter": "python",
   "pygments_lexer": "ipython3",
   "version": "3.6.13"
  }
 },
 "nbformat": 4,
 "nbformat_minor": 5
}
