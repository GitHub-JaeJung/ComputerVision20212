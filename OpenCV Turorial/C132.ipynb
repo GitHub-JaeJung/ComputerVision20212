{
 "cells": [
  {
   "cell_type": "markdown",
   "id": "379dc8d1",
   "metadata": {},
   "source": [
    "# Arithmetic Operations on Images"
   ]
  },
  {
   "cell_type": "code",
   "execution_count": 13,
   "id": "39263f7b",
   "metadata": {},
   "outputs": [],
   "source": [
    "import cv2\n",
    "import numpy as np\n",
    "from matplotlib import pyplot as plt"
   ]
  },
  {
   "cell_type": "code",
   "execution_count": 14,
   "id": "eb3493dc",
   "metadata": {},
   "outputs": [
    {
     "name": "stdout",
     "output_type": "stream",
     "text": [
      "[[255]]\n"
     ]
    }
   ],
   "source": [
    "x = np.uint8([250])\n",
    "y = np.uint8([10])\n",
    "print(cv2.add(x,y))"
   ]
  },
  {
   "cell_type": "code",
   "execution_count": 15,
   "id": "5d9ef848",
   "metadata": {},
   "outputs": [
    {
     "name": "stdout",
     "output_type": "stream",
     "text": [
      "[4]\n"
     ]
    }
   ],
   "source": [
    "print (x+y)"
   ]
  },
  {
   "cell_type": "code",
   "execution_count": 16,
   "id": "ad607b3b",
   "metadata": {},
   "outputs": [],
   "source": [
    "img1 = cv2.imread('messi5.jpg')\n",
    "img2 = cv2.imread('OpenCV_Logo.jpg')"
   ]
  },
  {
   "cell_type": "code",
   "execution_count": 17,
   "id": "2ae05988",
   "metadata": {},
   "outputs": [],
   "source": [
    "img1 = cv2.resize(img1, dsize=(640, 480))\n",
    "img2 = cv2.resize(img2, dsize=(640, 480))"
   ]
  },
  {
   "cell_type": "code",
   "execution_count": 8,
   "id": "dc22a52e",
   "metadata": {},
   "outputs": [],
   "source": [
    "dst = cv2.addWeighted(img1,0.7,img2,0.3,0)\n",
    "\n",
    "cv2.imshow('dst',dst)\n",
    "cv2.waitKey(0)\n",
    "cv2.destroyAllWindows()"
   ]
  },
  {
   "cell_type": "code",
   "execution_count": 9,
   "id": "e02e1c8e",
   "metadata": {},
   "outputs": [],
   "source": [
    "rows,cols,channels = img2.shape"
   ]
  },
  {
   "cell_type": "code",
   "execution_count": 10,
   "id": "0f55fc6f",
   "metadata": {},
   "outputs": [],
   "source": [
    "roi = img1[0:rows, 0:cols]\n",
    "# Now create a mask of logo and create its inverse mask also\n",
    "img2gray = cv2.cvtColor(img2,cv2.COLOR_BGR2GRAY)\n",
    "ret, mask = cv2.threshold(img2gray, 10, 255, cv2.THRESH_BINARY)\n",
    "mask_inv = cv2.bitwise_not(mask)\n",
    "# Now black-out the area of logo in ROI\n",
    "img1_bg = cv2.bitwise_and(roi,roi,mask = mask_inv)\n",
    "# Take only region of logo from logo image.\n",
    "img2_fg = cv2.bitwise_and(img2,img2,mask = mask)\n",
    "# Put logo in ROI and modify the main image\n",
    "dst = cv2.add(img1_bg,img2_fg)\n",
    "img1[0:rows, 0:cols ] = dst\n",
    "cv2.imshow('res',img1)\n",
    "cv2.waitKey(0)\n",
    "cv2.destroyAllWindows()"
   ]
  },
  {
   "cell_type": "code",
   "execution_count": 18,
   "id": "43cbe246",
   "metadata": {},
   "outputs": [],
   "source": [
    "def nothing(x):\n",
    "    pass"
   ]
  },
  {
   "cell_type": "code",
   "execution_count": 20,
   "id": "82c26e58",
   "metadata": {},
   "outputs": [],
   "source": [
    "cv2.namedWindow('image')\n",
    "cv2.createTrackbar('weight', 'image', 0, 255, nothing)\n",
    "while(1):\n",
    "    k = cv2.waitKey(1) & 0xFF\n",
    "    if k == 27:\n",
    "        break\n",
    "    weight = cv2.getTrackbarPos('weight', 'image')\n",
    "    dst = cv2.addWeighted(img1, weight/255, img2, 1-weight/255, 0)\n",
    "    cv2.imshow('image',dst)\n",
    "    \n",
    "cv2.destroyAllWindows()"
   ]
  }
 ],
 "metadata": {
  "kernelspec": {
   "display_name": "Python 3",
   "language": "python",
   "name": "python3"
  },
  "language_info": {
   "codemirror_mode": {
    "name": "ipython",
    "version": 3
   },
   "file_extension": ".py",
   "mimetype": "text/x-python",
   "name": "python",
   "nbconvert_exporter": "python",
   "pygments_lexer": "ipython3",
   "version": "3.9.4"
  }
 },
 "nbformat": 4,
 "nbformat_minor": 5
}
