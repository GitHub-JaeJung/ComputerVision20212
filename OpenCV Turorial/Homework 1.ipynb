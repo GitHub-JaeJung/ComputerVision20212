{
 "cells": [
  {
   "cell_type": "markdown",
   "id": "9d9fa638",
   "metadata": {},
   "source": [
    "# Homework 1"
   ]
  },
  {
   "cell_type": "markdown",
   "id": "557dd308",
   "metadata": {},
   "source": [
    "### Trackbar, Text, Box selection"
   ]
  },
  {
   "cell_type": "code",
   "execution_count": 1,
   "id": "714085d8",
   "metadata": {},
   "outputs": [],
   "source": [
    "import cv2\n",
    "import numpy as np"
   ]
  },
  {
   "cell_type": "code",
   "execution_count": 2,
   "id": "4a311feb",
   "metadata": {},
   "outputs": [],
   "source": [
    "def nothing(x):\n",
    "    pass\n",
    "\n",
    "img = cv2.imread('messi5.jpg', 1)\n",
    "cv2.namedWindow('image')"
   ]
  },
  {
   "cell_type": "code",
   "execution_count": 3,
   "id": "7343f4dd",
   "metadata": {},
   "outputs": [],
   "source": [
    "cv2.createTrackbar('value', 'image', 0, 255, nothing)\n",
    "font = cv2.FONT_HERSHEY_SIMPLEX"
   ]
  },
  {
   "cell_type": "code",
   "execution_count": 4,
   "id": "cc60b859",
   "metadata": {},
   "outputs": [],
   "source": [
    "ix, iy = -1, -1\n",
    "drawing = False"
   ]
  },
  {
   "cell_type": "code",
   "execution_count": 5,
   "id": "31a1bbdf",
   "metadata": {},
   "outputs": [],
   "source": [
    "def onMouse(event, x, y, flags, param):\n",
    "    global ix, iy, drawing, img\n",
    "    if event == cv2.EVENT_LBUTTONDOWN:\n",
    "        ix, iy = x, y\n",
    "        drawing = True\n",
    "        cv2.rectangle(img,(ix,iy),(x,y),(0,255,0),1)\n",
    "    elif event == cv2.EVENT_MOUSEMOVE:\n",
    "        # img = np.zeros((512,512,3), np.uint8)\n",
    "        if drawing == True:\n",
    "            img = cv2.imread('messi5.jpg', 1)\n",
    "            cv2.rectangle(img,(ix,iy),(x,y),(0,255,0),3)\n",
    "    elif event == cv2.EVENT_LBUTTONUP:\n",
    "        end = x, y\n",
    "        cv2.rectangle(img, (ix, iy), (x, y), (0, 0, 255), -1)\n",
    "        drawing = False        \n",
    "        cv2.putText(img, str([\"Mouse:\", (ix, iy), end]), (0, 40), font, 1, (255, 255, 255), 1)"
   ]
  },
  {
   "cell_type": "code",
   "execution_count": 6,
   "id": "e4427e7c",
   "metadata": {
    "scrolled": true
   },
   "outputs": [],
   "source": [
    "while(1):\n",
    "    cv2.imshow('image', img)\n",
    "    cv2.setMouseCallback('image', onMouse)\n",
    "    \n",
    "    k = cv2.waitKey(1) & 0xFF\n",
    "    if k == 27:\n",
    "        break\n",
    "\n",
    "cv2.destroyAllWindows()"
   ]
  }
 ],
 "metadata": {
  "kernelspec": {
   "display_name": "Python 3",
   "language": "python",
   "name": "python3"
  },
  "language_info": {
   "codemirror_mode": {
    "name": "ipython",
    "version": 3
   },
   "file_extension": ".py",
   "mimetype": "text/x-python",
   "name": "python",
   "nbconvert_exporter": "python",
   "pygments_lexer": "ipython3",
   "version": "3.9.4"
  }
 },
 "nbformat": 4,
 "nbformat_minor": 5
}
