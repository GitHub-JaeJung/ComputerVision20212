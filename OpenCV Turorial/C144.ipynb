{
 "cells": [
  {
   "cell_type": "markdown",
   "metadata": {},
   "source": [
    "# 1.4.4 Smoothing Images"
   ]
  },
  {
   "cell_type": "markdown",
   "metadata": {},
   "source": [
    "## Kernel Convolution"
   ]
  },
  {
   "cell_type": "code",
   "execution_count": 2,
   "metadata": {},
   "outputs": [],
   "source": [
    "import cv2\n",
    "import numpy as np\n",
    "from matplotlib import pyplot as plt"
   ]
  },
  {
   "cell_type": "code",
   "execution_count": 3,
   "metadata": {},
   "outputs": [],
   "source": [
    "l=1\n",
    "kernel = np.array([[0,-1,0],[-1,4,-1],[0,-1,0]],np.float32)"
   ]
  },
  {
   "cell_type": "code",
   "execution_count": 4,
   "metadata": {},
   "outputs": [
    {
     "data": {
      "text/plain": [
       "array([[ 0., -1.,  0.],\n",
       "       [-1.,  4., -1.],\n",
       "       [ 0., -1.,  0.]], dtype=float32)"
      ]
     },
     "execution_count": 4,
     "metadata": {},
     "output_type": "execute_result"
    }
   ],
   "source": [
    "kernel"
   ]
  },
  {
   "cell_type": "code",
   "execution_count": 5,
   "metadata": {},
   "outputs": [],
   "source": [
    "img = np.random.randint(10, size=(12,12))\n",
    "#img = np.ones((10,10),np.float32)"
   ]
  },
  {
   "cell_type": "code",
   "execution_count": 6,
   "metadata": {},
   "outputs": [
    {
     "data": {
      "text/plain": [
       "array([[0, 6, 4, 8, 0, 3, 1, 9, 6, 7, 4, 8],\n",
       "       [9, 0, 8, 8, 6, 3, 3, 6, 8, 4, 2, 1],\n",
       "       [9, 5, 5, 6, 1, 4, 7, 8, 8, 5, 7, 7],\n",
       "       [8, 3, 3, 0, 7, 4, 3, 1, 0, 0, 0, 9],\n",
       "       [8, 4, 0, 3, 7, 4, 4, 9, 4, 5, 3, 5],\n",
       "       [8, 9, 9, 2, 1, 8, 5, 5, 2, 1, 1, 3],\n",
       "       [2, 6, 6, 5, 1, 9, 1, 5, 9, 2, 3, 5],\n",
       "       [1, 2, 3, 6, 2, 7, 1, 5, 5, 3, 0, 3],\n",
       "       [3, 9, 4, 2, 6, 2, 6, 0, 4, 2, 6, 5],\n",
       "       [0, 1, 4, 0, 6, 7, 7, 1, 4, 9, 9, 2],\n",
       "       [7, 9, 4, 5, 0, 2, 2, 1, 7, 7, 3, 9],\n",
       "       [7, 2, 0, 5, 3, 2, 2, 4, 5, 4, 5, 8]])"
      ]
     },
     "execution_count": 6,
     "metadata": {},
     "output_type": "execute_result"
    }
   ],
   "source": [
    "img"
   ]
  },
  {
   "cell_type": "code",
   "execution_count": 7,
   "metadata": {},
   "outputs": [],
   "source": [
    "h,w=img.shape"
   ]
  },
  {
   "cell_type": "code",
   "execution_count": 8,
   "metadata": {},
   "outputs": [],
   "source": [
    "l=1\n",
    "kernel = np.array([[0,-1,0],[-1,5,-1],[0,-1,0]],np.float32)"
   ]
  },
  {
   "cell_type": "code",
   "execution_count": 9,
   "metadata": {},
   "outputs": [
    {
     "name": "stdout",
     "output_type": "stream",
     "text": [
      "12 12\n"
     ]
    }
   ],
   "source": [
    "print(h,w)"
   ]
  },
  {
   "cell_type": "code",
   "execution_count": 10,
   "metadata": {},
   "outputs": [],
   "source": [
    "#[*range(-2,3)]"
   ]
  },
  {
   "cell_type": "code",
   "execution_count": 11,
   "metadata": {},
   "outputs": [],
   "source": [
    "dst = np.zeros((h,w),np.int)"
   ]
  },
  {
   "cell_type": "code",
   "execution_count": 12,
   "metadata": {},
   "outputs": [],
   "source": [
    "for i in range(l,h-l):\n",
    "    for j in range(l,w-l):\n",
    "        t=0\n",
    "        for p in range(-l,l+1):\n",
    "            for q in range(-l,l+1):\n",
    "                t += kernel[p+l,q+l]*img[i+p,j+q]\n",
    "        dst[i,j]=t        "
   ]
  },
  {
   "cell_type": "code",
   "execution_count": 13,
   "metadata": {},
   "outputs": [
    {
     "data": {
      "text/plain": [
       "array([[0, 6, 4, 8, 0, 3, 1, 9, 6, 7, 4, 8],\n",
       "       [9, 0, 8, 8, 6, 3, 3, 6, 8, 4, 2, 1],\n",
       "       [9, 5, 5, 6, 1, 4, 7, 8, 8, 5, 7, 7],\n",
       "       [8, 3, 3, 0, 7, 4, 3, 1, 0, 0, 0, 9],\n",
       "       [8, 4, 0, 3, 7, 4, 4, 9, 4, 5, 3, 5],\n",
       "       [8, 9, 9, 2, 1, 8, 5, 5, 2, 1, 1, 3],\n",
       "       [2, 6, 6, 5, 1, 9, 1, 5, 9, 2, 3, 5],\n",
       "       [1, 2, 3, 6, 2, 7, 1, 5, 5, 3, 0, 3],\n",
       "       [3, 9, 4, 2, 6, 2, 6, 0, 4, 2, 6, 5],\n",
       "       [0, 1, 4, 0, 6, 7, 7, 1, 4, 9, 9, 2],\n",
       "       [7, 9, 4, 5, 0, 2, 2, 1, 7, 7, 3, 9],\n",
       "       [7, 2, 0, 5, 3, 2, 2, 4, 5, 4, 5, 8]])"
      ]
     },
     "execution_count": 13,
     "metadata": {},
     "output_type": "execute_result"
    }
   ],
   "source": [
    "img"
   ]
  },
  {
   "cell_type": "code",
   "execution_count": 14,
   "metadata": {},
   "outputs": [
    {
     "data": {
      "text/plain": [
       "array([[  0,   0,   0,   0,   0,   0,   0,   0,   0,   0,   0,   0],\n",
       "       [  0, -28,  23,  12,  18,  -1,  -2,   2,  16,  -2,  -6,   0],\n",
       "       [  0,   8,   3,  16, -18,   5,  17,  18,  19,   6,  21,   0],\n",
       "       [  0,  -5,   7, -19,  23,   2,  -1, -15, -13, -10, -19,   0],\n",
       "       [  0,   0, -19,   6,  20,  -3,  -1,  31,   4,  17,   4,   0],\n",
       "       [  0,  18,  28,  -8, -13,  21,   7,   4,  -9,  -5,  -5,   0],\n",
       "       [  0,  11,   7,  10, -12,  28, -15,   5,  31,  -6,   7,   0],\n",
       "       [  0,  -9,  -3,  18, -10,  21, -14,  14,   4,   6, -15,   0],\n",
       "       [  0,  35,   2,  -6,  18, -16,  20, -16,   9, -12,  14,   0],\n",
       "       [  0, -17,  11, -17,  17,  18,  19,  -7,  -1,  23,  25,   0],\n",
       "       [  0,  31,   2,  16, -16,  -1,  -2,  -9,  18,  12, -15,   0],\n",
       "       [  0,   0,   0,   0,   0,   0,   0,   0,   0,   0,   0,   0]])"
      ]
     },
     "execution_count": 14,
     "metadata": {},
     "output_type": "execute_result"
    }
   ],
   "source": [
    "dst"
   ]
  },
  {
   "cell_type": "code",
   "execution_count": 15,
   "metadata": {},
   "outputs": [],
   "source": [
    "img = cv2.imread('lena.png', 0)"
   ]
  },
  {
   "cell_type": "code",
   "execution_count": 16,
   "metadata": {},
   "outputs": [],
   "source": [
    "h,w=img.shape"
   ]
  },
  {
   "cell_type": "code",
   "execution_count": 17,
   "metadata": {},
   "outputs": [],
   "source": [
    "dst = np.zeros((h-2*l,w-2*l),np.uint8)"
   ]
  },
  {
   "cell_type": "code",
   "execution_count": 18,
   "metadata": {},
   "outputs": [],
   "source": [
    "for i in range(l,h-l):\n",
    "    for j in range(l,w-l):\n",
    "        t=0\n",
    "        for p in range(-l,l+1):\n",
    "            for q in range(-l,l+1):\n",
    "                t += kernel[p+l,q+l]*img[i+p,j+q]\n",
    "        dst[i-l,j-l]=t "
   ]
  },
  {
   "cell_type": "code",
   "execution_count": 19,
   "metadata": {},
   "outputs": [],
   "source": [
    "cv2.imshow('img',img)\n",
    "cv2.imshow('dst',dst)\n",
    "cv2.waitKey(0)\n",
    "cv2.destroyAllWindows()"
   ]
  },
  {
   "cell_type": "code",
   "execution_count": null,
   "metadata": {},
   "outputs": [],
   "source": []
  }
 ],
 "metadata": {
  "kernelspec": {
   "display_name": "Python 3",
   "language": "python",
   "name": "python3"
  },
  "language_info": {
   "codemirror_mode": {
    "name": "ipython",
    "version": 3
   },
   "file_extension": ".py",
   "mimetype": "text/x-python",
   "name": "python",
   "nbconvert_exporter": "python",
   "pygments_lexer": "ipython3",
   "version": "3.9.4"
  }
 },
 "nbformat": 4,
 "nbformat_minor": 4
}
