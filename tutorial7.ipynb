{
 "cells": [
  {
   "cell_type": "markdown",
   "id": "9876dc2a",
   "metadata": {},
   "source": [
    "# Generating Lists using \"List Comprehensions\""
   ]
  },
  {
   "cell_type": "code",
   "execution_count": 1,
   "id": "2c116c19",
   "metadata": {},
   "outputs": [
    {
     "data": {
      "text/plain": [
       "[6, 12, 4, 14]"
      ]
     },
     "execution_count": 1,
     "metadata": {},
     "output_type": "execute_result"
    }
   ],
   "source": [
    "li = [3, 6, 2, 7]\n",
    "[elem*2 for elem in li]"
   ]
  },
  {
   "cell_type": "code",
   "execution_count": 2,
   "id": "fa469bb5",
   "metadata": {},
   "outputs": [],
   "source": [
    "li = [('a', 1), ('b', 2), ('c', 7)]"
   ]
  },
  {
   "cell_type": "code",
   "execution_count": 3,
   "id": "ced3ee8c",
   "metadata": {},
   "outputs": [
    {
     "data": {
      "text/plain": [
       "[3, 6, 21]"
      ]
     },
     "execution_count": 3,
     "metadata": {},
     "output_type": "execute_result"
    }
   ],
   "source": [
    "[n * 3 for (x, n) in li]"
   ]
  },
  {
   "cell_type": "code",
   "execution_count": 4,
   "id": "f90aef12",
   "metadata": {},
   "outputs": [],
   "source": [
    "li = [3, 6, 2, 7, 1, 9]"
   ]
  },
  {
   "cell_type": "code",
   "execution_count": 5,
   "id": "7e882783",
   "metadata": {},
   "outputs": [
    {
     "data": {
      "text/plain": [
       "[12, 14, 18]"
      ]
     },
     "execution_count": 5,
     "metadata": {},
     "output_type": "execute_result"
    }
   ],
   "source": [
    "[elem * 2 for elem in li if elem > 4]"
   ]
  },
  {
   "cell_type": "code",
   "execution_count": 6,
   "id": "a9cd4080",
   "metadata": {},
   "outputs": [],
   "source": [
    "li = [3, 2, 4, 1]"
   ]
  },
  {
   "cell_type": "code",
   "execution_count": 7,
   "id": "c53f9067",
   "metadata": {},
   "outputs": [
    {
     "data": {
      "text/plain": [
       "[8, 6, 10, 4]"
      ]
     },
     "execution_count": 7,
     "metadata": {},
     "output_type": "execute_result"
    }
   ],
   "source": [
    "[elem * 2 for elem in [item + 1 for item in li]]"
   ]
  },
  {
   "cell_type": "code",
   "execution_count": null,
   "id": "8d58409e",
   "metadata": {},
   "outputs": [],
   "source": []
  }
 ],
 "metadata": {
  "kernelspec": {
   "display_name": "Python 3",
   "language": "python",
   "name": "python3"
  },
  "language_info": {
   "codemirror_mode": {
    "name": "ipython",
    "version": 3
   },
   "file_extension": ".py",
   "mimetype": "text/x-python",
   "name": "python",
   "nbconvert_exporter": "python",
   "pygments_lexer": "ipython3",
   "version": "3.9.4"
  }
 },
 "nbformat": 4,
 "nbformat_minor": 5
}
